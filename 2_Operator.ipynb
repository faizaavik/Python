{
  "nbformat": 4,
  "nbformat_minor": 0,
  "metadata": {
    "colab": {
      "provenance": [],
      "authorship_tag": "ABX9TyNittUmMUInWmaSLknE0aJ1",
      "include_colab_link": true
    },
    "kernelspec": {
      "name": "python3",
      "display_name": "Python 3"
    },
    "language_info": {
      "name": "python"
    }
  },
  "cells": [
    {
      "cell_type": "markdown",
      "metadata": {
        "id": "view-in-github",
        "colab_type": "text"
      },
      "source": [
        "<a href=\"https://colab.research.google.com/github/faizaavik/Python/blob/main/2_Operator.ipynb\" target=\"_parent\"><img src=\"https://colab.research.google.com/assets/colab-badge.svg\" alt=\"Open In Colab\"/></a>"
      ]
    },
    {
      "cell_type": "markdown",
      "source": [
        " **OPERATOR**"
      ],
      "metadata": {
        "id": "qn31lFiGCzkt"
      }
    },
    {
      "cell_type": "markdown",
      "source": [
        "**Di Python operator digunakan untuk melakukan operasi pada variabel dan nilai. Terdapat beberapa jenis operator seperti operator Aritmatika,operator perbandingan,operator logika dan lain-lain. berikut adalah beberapa operator yang umum digunakan dalam python.**"
      ],
      "metadata": {
        "id": "0Cp4UKDtDGS0"
      }
    },
    {
      "cell_type": "markdown",
      "source": [
        "**▶ OPERATOR ARITHMETIC / ARITMATIKA**\n",
        "\n",
        "operator ini digunakan untuk melakukan operasi pada tipe data numerik,untuk melakukan operasi matematika sederhana.\n",
        "\n",
        "\n",
        "\n",
        "\n",
        "\n",
        "\n"
      ],
      "metadata": {
        "id": "eTeuIFsMEuLT"
      }
    },
    {
      "cell_type": "code",
      "source": [
        "#     +   = penjumlahan\n",
        "#     -   = pengurangan\n",
        "#     *   = perkalian\n",
        "#     /   = pembagian\n",
        "#     %   = modulus / bagi\n",
        "#     **  = pangkat\n",
        "#     //  = pembagian dgn pembulan ke bawah\n",
        "\n",
        "# CONTOH\n",
        "a = 3\n",
        "b = 2\n",
        "hasil = a + b\n",
        "print(hasil)\n",
        "hasil = a - b\n",
        "print(hasil)\n",
        "hasil = a * b\n",
        "print(hasil)\n",
        "hasil = a / b\n",
        "print(hasil)\n",
        "hasil = a % b\n",
        "print(hasil)\n",
        "hasil = a ** b\n",
        "print(hasil)\n",
        "hasil = a // b\n",
        "print(hasil)"
      ],
      "metadata": {
        "id": "jmREidaazzs6"
      },
      "execution_count": null,
      "outputs": []
    },
    {
      "cell_type": "markdown",
      "source": [
        "**▶ OPERATOR PENUGASAN / ASSIGMENT**\n",
        "\n",
        "Digunakan untuk mendeklarasikan nilai secara langsung ke suatu variabel\n",
        "Selain memeberikan nilai,operator penugasan juga dapat melakukkan operasi aritmatika dengan nilai yang sudah ada dalam variabel dan kemudian menugaskan hasilnya kembali ke variabel yang sama"
      ],
      "metadata": {
        "id": "Bp6d3z1t4HPf"
      }
    },
    {
      "cell_type": "code",
      "source": [
        "# +=    = penambahan\n",
        "# -=    = pengurangan\n",
        "# *=    = perkalian\n",
        "# /=    = pembagian\n",
        "# %=    = modulo/sisa bagi\n",
        "# **=   = pangkat\n",
        "# //=   = Pembagian dengan pembulatan ke bawah\n",
        "\n",
        "# CONTOH\n",
        "x = 3\n",
        "x += 2\n",
        "print(x)\n",
        "\n",
        "x = 3\n",
        "x -= 2\n",
        "print(x)\n",
        "\n",
        "x = 3\n",
        "x *= 2\n",
        "print(x)\n",
        "\n",
        "x = 3\n",
        "x /= 2\n",
        "print(x)\n",
        "\n",
        "x = 3\n",
        "x %= 2\n",
        "print(x)\n",
        "\n",
        "x = 3\n",
        "x **= 2\n",
        "print(x)\n",
        "\n",
        "x = 3\n",
        "x //= 2\n",
        "print(x)"
      ],
      "metadata": {
        "id": "O2csMtGO5Pk6"
      },
      "execution_count": null,
      "outputs": []
    },
    {
      "cell_type": "markdown",
      "source": [
        "**▶ OPERATOR COMPARISON / PERBANDINGAN**\n",
        "\n",
        "digunakan untuk membandingkan dua buah nilai,"
      ],
      "metadata": {
        "id": "GeBrI64T88lO"
      }
    },
    {
      "cell_type": "code",
      "source": [
        "# ==  = persamaan\n",
        "# !=  = pertidaksamaaan\n",
        "# >   = lebih besar dari\n",
        "# <   = lebih kecil dari\n",
        "# >=  = lebih besar atau sama dengan\n",
        "# <=  = lebih kecil atau sama dengan\n",
        "\n",
        "# CONTOH\n",
        "a = 7\n",
        "b = 8\n",
        "\n",
        "print(a == b)\n",
        "print(a != b)\n",
        "print(a  > b)\n",
        "print(a  < b)\n",
        "print(a >= b)\n",
        "print(a <= b)"
      ],
      "metadata": {
        "id": "IrutAHYz86vS"
      },
      "execution_count": null,
      "outputs": []
    },
    {
      "cell_type": "markdown",
      "source": [
        "**▶ OPERATOR LOGICAL / LOGIKA**\n",
        "\n",
        "Digunakan untuk melakukan operasi logika pada nilai - nilai bolean (True atau False). Operator logika umumnya digunakan untuk menggabungkan atau memanipulasi kondisi-kondisi logika.\n",
        "\n",
        "Operand adalah nilai atau variabel yang berpartisipasi dalam operasi.dalam konteks operator,operand adalah nilai atau variabel yang dioperasikan oleh operator untuk menghasilkan hasil akhir. Dalam ekspresi Python, Operand dapat berupa nilai konstan, variabel, atau ekspresi yang mengembalikan nilai. Operasi dapat dilakukan menggunakan operator yang sesuai, dan hasilnya akan bergantung pada nilai operand dan operator yang di gunakan."
      ],
      "metadata": {
        "id": "OQie97fp_eV9"
      }
    },
    {
      "cell_type": "code",
      "source": [
        "# CONTOH\n",
        "\n",
        "# and  = Mengembalikan nilai True jika kedua operand bernilai True. Jika salah satu atau kedua bernilai False , maka operator (and) akan mengembalikan False.\n",
        "x = 5\n",
        "y = 10\n",
        "hasil = (x > 0) and ( y < 13)\n",
        "print(hasil)\n",
        "\n",
        "# or = mengembalikan True jika salah satu dari kedua operand bernilai True, jika kedua operand bernilai False, maka operator (or) akan mengembalikan False.\n",
        "x = 7\n",
        "y = 15\n",
        "hasil = (x < 9 ) or (y < 3)\n",
        "print(hasil)\n",
        "\n",
        "# not = digunakan  untuk membalik nilai sebuah ekspresi. Jika ekspresi bernilai True, maka operator (not) akan mengembalikan False, dan Sebaliknya\n",
        "x = 9\n",
        "hasil = not (x > 7)\n",
        "print(hasil)"
      ],
      "metadata": {
        "id": "Y-Y9U7Sm_dre"
      },
      "execution_count": null,
      "outputs": []
    },
    {
      "cell_type": "markdown",
      "source": [
        "**▶ OPERATOR IDENTITY / IDENTITAS**\n",
        "\n",
        "Operator identitas digunakan untuk memeriksa apakah dua variabel memiliki identitas yang sama, yaitu apakah keduanya merujuk pada objek yang sama di dalam memori dalam python"
      ],
      "metadata": {
        "id": "_IcpIAi7FJm5"
      }
    },
    {
      "cell_type": "code",
      "source": [
        "# is  = mengembalikan True jika kedua variabel merujuk pada objek yang sama didalam memori\n",
        "x = [1, 2, 3]\n",
        "y = [1, 2, 3]\n",
        "z = x\n",
        "\n",
        "print(x is y) #Output : False karena x dan y merujuk pada objek yg berbeda,meskipun isinya sama\n",
        "print(x is z) #output : True karena x dan z merujuk pada objek yang sama.\n",
        "\n",
        "# is not = mengembalikan True jika kedua variabel tidakmerujuk pada objek yang sama didalam memori\n",
        "x = [3, 4, 5]\n",
        "y = [3, 4, 5]\n",
        "z = y\n",
        "\n",
        "print(x is not y) #Output : True karena x dan y tidak merujuk pada objek yang sama,\n",
        "print(z is not y) #Output : False karena  x dan y merujuk pada objek yang sama didalam memori"
      ],
      "metadata": {
        "colab": {
          "base_uri": "https://localhost:8080/"
        },
        "id": "RalLP9RXKK6I",
        "outputId": "5b636d5f-c93a-412c-e2f7-797d3bd655c9"
      },
      "execution_count": 2,
      "outputs": [
        {
          "output_type": "stream",
          "name": "stdout",
          "text": [
            "False\n",
            "True\n",
            "True\n",
            "False\n"
          ]
        }
      ]
    }
  ]
}