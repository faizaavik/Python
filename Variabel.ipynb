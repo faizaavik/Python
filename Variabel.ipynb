{
  "nbformat": 4,
  "nbformat_minor": 0,
  "metadata": {
    "colab": {
      "provenance": [],
      "toc_visible": true,
      "authorship_tag": "ABX9TyO+IFRvzxONdTJz9eYTATke",
      "include_colab_link": true
    },
    "kernelspec": {
      "name": "python3",
      "display_name": "Python 3"
    },
    "language_info": {
      "name": "python"
    }
  },
  "cells": [
    {
      "cell_type": "markdown",
      "metadata": {
        "id": "view-in-github",
        "colab_type": "text"
      },
      "source": [
        "<a href=\"https://colab.research.google.com/github/faizaavik/Python/blob/main/Variabel.ipynb\" target=\"_parent\"><img src=\"https://colab.research.google.com/assets/colab-badge.svg\" alt=\"Open In Colab\"/></a>"
      ]
    },
    {
      "cell_type": "markdown",
      "source": [
        "▶**ATURAN DEKLARASI VARIABEL DALAM PYTHON**\n",
        "\n",
        "*   Nama Variabel dapat menggunakan huruf **(a-z, A-Z), angka(0-9), dan garis bawah(_)** Contoh : 'nama' , 'umur_mahasiswa' , 'nilai1'.\n",
        "*   Nama Variabel tidak boleh dimulai dengan angka. Contoh yang tidak valid : **1nilai** , **3tahun**.\n",
        "*   Python **bersifat case-sentive**, artinya variabel **nama** dan **Nama** dianggap berbeda.\n",
        "\n",
        "\n",
        "\n"
      ],
      "metadata": {
        "id": "v3JnsBfjv7sc"
      }
    },
    {
      "cell_type": "markdown",
      "source": [
        "▶ **CARA MEMBUAT VARIABEL PADA PYTHON**"
      ],
      "metadata": {
        "id": "HZMj5hGakci0"
      }
    },
    {
      "cell_type": "code",
      "execution_count": 9,
      "metadata": {
        "id": "t8LhpXPfiJhv"
      },
      "outputs": [],
      "source": [
        "integer = 1\n",
        "float = 4.7\n",
        "string = \"faiza\"\n",
        "bolean = True"
      ]
    },
    {
      "cell_type": "code",
      "source": [
        "print(type(integer))\n",
        "print(type(string))\n",
        "print(type(float))\n",
        "print(type(bolean))\n"
      ],
      "metadata": {
        "id": "7xelsdc-jXRP"
      },
      "execution_count": null,
      "outputs": []
    },
    {
      "cell_type": "code",
      "source": [
        "print(integer)\n",
        "print(float)\n",
        "print(string)\n",
        "print(bolean)"
      ],
      "metadata": {
        "id": "9kJyYAmFjjso"
      },
      "execution_count": null,
      "outputs": []
    },
    {
      "cell_type": "markdown",
      "source": [
        "▶ **BERBAGAI CARA MENDEKLARASIKAN VARIABEL**\n",
        "\n",
        "---\n",
        "\n"
      ],
      "metadata": {
        "id": "vOnIYsA4l_O5"
      }
    },
    {
      "cell_type": "markdown",
      "source": [
        "\n",
        "1.  **Cara Mendeklarasikan Variabel Sederhana**\n",
        "\n"
      ],
      "metadata": {
        "id": "-PnJMc04moY-"
      }
    },
    {
      "cell_type": "code",
      "source": [
        "Nama = \"Faiza\"\n",
        "umur = 21\n",
        "Berat_Badan = 57.8\n",
        "Tinggi_Badan = 157\n",
        "Pekerjaan = \"Programmer\""
      ],
      "metadata": {
        "id": "LF12NMqWmyew"
      },
      "execution_count": 16,
      "outputs": []
    },
    {
      "cell_type": "markdown",
      "source": [
        "\n",
        "> Dalam contoh di atas kita mendeklarasikan 3 tipe data yaitu String, Integer dan Float.\n",
        "\n"
      ],
      "metadata": {
        "id": "UXEDZbxnnNVy"
      }
    },
    {
      "cell_type": "markdown",
      "source": [
        "2. **Deklarasi Variabel dengan Tipe data yang berbeda**"
      ],
      "metadata": {
        "id": "mHclxm-vnzAl"
      }
    },
    {
      "cell_type": "code",
      "source": [
        "x, y, z = \"faiza\",21,57.8"
      ],
      "metadata": {
        "id": "7vpu5awfnxnO"
      },
      "execution_count": 17,
      "outputs": []
    },
    {
      "cell_type": "markdown",
      "source": [
        "\n",
        "\n",
        "> Dalam Contoh di atas kita mendeklarasikan 3 Variabel x,y,z sekaligus denga nilai berturut turut berupa string, integer, float\n",
        "\n"
      ],
      "metadata": {
        "id": "_KLsAm_SoiPQ"
      }
    },
    {
      "cell_type": "markdown",
      "source": [
        "3. **Deklarasi Variabel dalam 1 Variabel**\n",
        "\n"
      ],
      "metadata": {
        "id": "0sR88VIgo9dm"
      }
    },
    {
      "cell_type": "code",
      "source": [
        "a = b = c = 10"
      ],
      "metadata": {
        "id": "E0kOkI0VpQsi"
      },
      "execution_count": 18,
      "outputs": []
    },
    {
      "cell_type": "markdown",
      "source": [
        "\n",
        "\n",
        "> Dalam Contoh diatas ketiga variabel di beri nilai yang sama 10\n",
        "\n"
      ],
      "metadata": {
        "id": "-XEbIdJSpqFf"
      }
    },
    {
      "cell_type": "markdown",
      "source": [
        "4. **Deklarasi Variabel dengan Nilai Default**"
      ],
      "metadata": {
        "id": "02IZPb2bp-Bt"
      }
    },
    {
      "cell_type": "code",
      "source": [
        "nama =input(\"Masukkan Nama Anda : \")\n",
        "print (nama)"
      ],
      "metadata": {
        "id": "nw1pE3wjqK9U"
      },
      "execution_count": null,
      "outputs": []
    },
    {
      "cell_type": "markdown",
      "source": [
        "\n",
        "> Dalam Contoh diatas Variabel nama di beri nilai default\n",
        "\n"
      ],
      "metadata": {
        "id": "GQrrWL9St2SS"
      }
    }
  ]
}