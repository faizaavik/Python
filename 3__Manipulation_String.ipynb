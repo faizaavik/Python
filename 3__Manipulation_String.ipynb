{
  "nbformat": 4,
  "nbformat_minor": 0,
  "metadata": {
    "colab": {
      "provenance": [],
      "authorship_tag": "ABX9TyO7uWAUPXR+U6cJGvAaq0ty",
      "include_colab_link": true
    },
    "kernelspec": {
      "name": "python3",
      "display_name": "Python 3"
    },
    "language_info": {
      "name": "python"
    }
  },
  "cells": [
    {
      "cell_type": "markdown",
      "metadata": {
        "id": "view-in-github",
        "colab_type": "text"
      },
      "source": [
        "<a href=\"https://colab.research.google.com/github/faizaavik/Python/blob/main/3__Manipulation_String.ipynb\" target=\"_parent\"><img src=\"https://colab.research.google.com/assets/colab-badge.svg\" alt=\"Open In Colab\"/></a>"
      ]
    },
    {
      "cell_type": "markdown",
      "source": [
        "# Operasi dan Manipulasi String\n"
      ],
      "metadata": {
        "id": "FTuuFeRvTwGq"
      }
    },
    {
      "cell_type": "code",
      "source": [
        "# 1. Menyambung String (concatenate)\n",
        "nama_pertama = \"Faiza\"\n",
        "nama_tengah = \"Nazatun\"\n",
        "nama_akhir = 'Avik'\n",
        "\n",
        "nama_lengkap = nama_pertama + \" \" + nama_tengah + \" \" + nama_akhir\n",
        "print(nama_lengkap)"
      ],
      "metadata": {
        "colab": {
          "base_uri": "https://localhost:8080/"
        },
        "id": "fVDp8QCgT7Gg",
        "outputId": "f80f9363-266e-4a3e-ae30-4e769a4adeb4"
      },
      "execution_count": 1,
      "outputs": [
        {
          "output_type": "stream",
          "name": "stdout",
          "text": [
            "Faiza Nazatun Avik\n"
          ]
        }
      ]
    },
    {
      "cell_type": "code",
      "source": [
        "# 2. Menghitung panjang String\n",
        "panjang = len(nama_lengkap)\n",
        "print(panjang)\n",
        "print(\"panjang dari \" + nama_lengkap + \" = \" + str(panjang))"
      ],
      "metadata": {
        "colab": {
          "base_uri": "https://localhost:8080/"
        },
        "id": "nweroTEVWQcG",
        "outputId": "7f01349c-4602-4b48-dcd9-77c9a9412db0"
      },
      "execution_count": 4,
      "outputs": [
        {
          "output_type": "stream",
          "name": "stdout",
          "text": [
            "18\n",
            "panjang dari Faiza Nazatun Avik = 18\n"
          ]
        }
      ]
    },
    {
      "cell_type": "code",
      "source": [
        "# 3. Operator untuk string\n",
        "\n",
        "# Mengecek apakah ada komponen char atau string di string\n",
        "huruf = \"u\"\n",
        "status = huruf in nama_lengkap\n",
        "print(huruf + \" Ada di dalam \" + nama_lengkap + \" = \" + str(status) )\n",
        "\n",
        "huruf = \"C\"\n",
        "status = huruf in nama_lengkap\n",
        "print(huruf + \" Ada di dalam \" + nama_lengkap + \" = \" + str(status) )\n",
        "\n",
        "huruf = \"a\"\n",
        "status = huruf not in nama_lengkap\n",
        "print(huruf + \" Ada di dalam \" + nama_lengkap + \" = \" + str(status) )\n",
        "\n",
        "print(' ')\n",
        "# Mengulang string\n",
        "print (\"Rich\" * 10)\n",
        "print (12 * \"Rich\")\n",
        "\n",
        "print(\" \")\n",
        "# Indexing\n",
        "print(\"index ke-0 = \" + nama_lengkap[0])\n",
        "print(\"index ke-2 = \" + nama_lengkap[2])\n",
        "print(\"index ke-(-1) = \" + nama_lengkap[-1])\n",
        "print(\"index ke-(-5) = \" + nama_lengkap[-4])\n",
        "print(\"index ke-[0:4] = \" + nama_lengkap[0:4])\n",
        "print(\"index ke-[0,2,4,5,6,8,10] = \" + nama_lengkap[0:11:2])\n",
        "\n",
        "print(\" \")\n",
        "#item paling kecil\n",
        "print(\"Karakter Paling kecil =\" + min(nama_lengkap))\n",
        "#item paling Besar\n",
        "print(\"Karakter Paling Besar = \" + max(nama_lengkap))\n",
        "\n",
        "print(\" \")\n",
        "# Menggunakan fungsi ord() dan chr()\n",
        "ascii_code = ord(\"F\")\n",
        "print(\"ASCII Code untuk huruf F : \" + str(ascii_code))\n",
        "\n",
        "data = 70\n",
        "print(\"chr untuk ascii 70 adalah : \" + chr(data))"
      ],
      "metadata": {
        "id": "BAK1Il4tXFn_"
      },
      "execution_count": null,
      "outputs": []
    },
    {
      "cell_type": "markdown",
      "source": [
        "ASCII \"American standard code for information interchange\"\n",
        "\n",
        "adalah sebuah standar pengkodean karakter yang digunakanb untuk mempresentasikan teks. Setiap karakter dalam ASCII direpresentasikan oleh sebuah bilangan bulat antara 0 hingga 127.Pada tipe data string, ASCII kode dapat digunakan untuk mempresentasikan karakter-karakter tertentu.\n",
        "\n",
        "Fungsi \"ord\" untuk mendapatkan nilai dari sebuah karakter\n",
        "fungsi \"chr\" untuk mendapatkan karakter dari sebuah nilai ASCII"
      ],
      "metadata": {
        "id": "XFH2J3Wsg74K"
      }
    },
    {
      "cell_type": "code",
      "source": [
        "# 4. Operator dalam bentuk Method\n",
        "data = \"Aku suka kamu\"\n",
        "jumlah = data.count(\"a\")\n",
        "print(\"junlah a pada : \" + data + \" = \" + str(jumlah))\n"
      ],
      "metadata": {
        "colab": {
          "base_uri": "https://localhost:8080/"
        },
        "id": "Jy1cauTJi5wX",
        "outputId": "fa3377f1-54a6-4e24-a0f5-d0f7dba4698b"
      },
      "execution_count": 23,
      "outputs": [
        {
          "output_type": "stream",
          "name": "stdout",
          "text": [
            "junlah a pada : Aku suka kamu = 2\n"
          ]
        }
      ]
    }
  ]
}